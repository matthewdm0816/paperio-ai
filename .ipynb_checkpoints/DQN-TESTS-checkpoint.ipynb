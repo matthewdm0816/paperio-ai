{
 "cells": [
  {
   "cell_type": "code",
   "execution_count": 1,
   "metadata": {},
   "outputs": [],
   "source": [
    "import torch, torchvision\n",
    "import torch.nn.functional as F\n",
    "import random, math\n",
    "import numpy as np\n",
    "import torch.nn as nn\n",
    "import torchvision.transforms as T\n",
    "import torch.optim as optim\n",
    "from itertools import count\n",
    "from collections import namedtuple"
   ]
  },
  {
   "cell_type": "code",
   "execution_count": 3,
   "metadata": {},
   "outputs": [],
   "source": [
    "device = torch.device(\"cuda\" if torch.cuda.is_available() else \"cpu\")\n",
    "Transition = namedtuple('Transition', ('state', 'action', 'next_state', 'reward'))"
   ]
  },
  {
   "cell_type": "code",
   "execution_count": 200,
   "metadata": {},
   "outputs": [],
   "source": [
    "class DQN(nn.Module):\n",
    "\tdef __init__(self):\n",
    "\t\tsuper(DQN, self).__init__()\n",
    "\t\tself.conv1 = nn.Conv2d(1, 16, kernel_size=5, stride=2)\n",
    "\t\tself.bn1 = nn.BatchNorm2d(16)\n",
    "\t\tself.conv2 = nn.Conv2d(16, 32, kernel_size=5, stride=2)\n",
    "\t\tself.bn2 = nn.BatchNorm2d(32)\n",
    "\t\tself.conv3 = nn.Conv2d(32, 32, kernel_size=5, stride=2)\n",
    "\t\tself.bn3 = nn.BatchNorm2d(32)\n",
    "\t\tself.head = nn.Linear(3200, 3) # ???\n",
    "\t\t# out : Left, Straight, Right\n",
    "\n",
    "\tdef forward(self, x):\n",
    "\t\tx = F.relu(self.bn1(self.conv1(x)))\n",
    "\t\tx = F.relu(self.bn2(self.conv2(x)))\n",
    "\t\tx = F.relu(self.bn3(self.conv3(x)))\n",
    "\t\t# return x\n",
    "\t\tx = x.view(x.size(0), -1)\n",
    "\t\t# print(x.shape)\n",
    "\t\treturn self.head(x)\n",
    "    \n",
    "\n",
    "BATCH_SIZE = 128\n",
    "GAMMA = 0.999\n",
    "EPS_START = 0.9\n",
    "EPS_DECAY = 200\n",
    "EPS_END = 0.05\n",
    "TARGET_UPDATE = 10\n",
    "\n",
    "policy_net = DQN().to(device)\n",
    "target_net = DQN().to(device)\n",
    "target_net.load_state_dict(policy_net.state_dict())\n",
    "target_net.eval()\n",
    "\n",
    "optimizer = optim.RMSprop(policy_net.parameters())"
   ]
  },
  {
   "cell_type": "code",
   "execution_count": 145,
   "metadata": {},
   "outputs": [
    {
     "data": {
      "text/plain": [
       "tensor([[ 0.2601, -0.0231,  0.2603],\n",
       "        [ 0.0475,  0.0407,  0.3560],\n",
       "        [ 0.2654,  0.0572,  0.1607],\n",
       "        [ 0.1011, -0.0887,  0.1221],\n",
       "        [ 0.2362,  0.1347,  0.0565],\n",
       "        [ 0.0178, -0.0747,  0.1702],\n",
       "        [-0.0426, -0.1332,  0.0722],\n",
       "        [-0.3655, -0.0852,  0.1595],\n",
       "        [-0.0318, -0.1807,  0.0860],\n",
       "        [ 0.0242,  0.0762, -0.1082]])"
      ]
     },
     "execution_count": 145,
     "metadata": {},
     "output_type": "execute_result"
    }
   ],
   "source": [
    "states = torch.zeros([10, 1, 102, 101], dtype=torch.float32).random_(0, 4)\n",
    "# state = state.view((1, 32*32))\n",
    "policy_net(states)\n"
   ]
  },
  {
   "cell_type": "code",
   "execution_count": 167,
   "metadata": {},
   "outputs": [],
   "source": [
    "steps_done = 0\n",
    "def select_action(state):\n",
    "\tglobal steps_done\n",
    "\tsample = random.random()\n",
    "\teps_threshold = EPS_END + (EPS_START - EPS_END) * \\\n",
    "\t\tmath.exp(-1. * steps_done / EPS_DECAY)\n",
    "\tsteps_done += 1\n",
    "\tif sample > eps_threshold:\n",
    "\t\twith torch.no_grad():\n",
    "\t\t\treturn policy_net(state).max(1)[1].view(1, 1)\n",
    "\telse:\n",
    "\t\treturn torch.tensor([[random.randrange(3)]], device=device)\n",
    "\n",
    "def plain_select_action(states):\n",
    "    with torch.no_grad():\n",
    "        return policy_net(states.view(-1, 1, 102, 101)).argmax(dim=1)\n",
    "\n",
    "plain_select_action(states)\n",
    "\n",
    "def countArea(state, id):\n",
    "    return state.eq(torch.zeros(state.shape, dtype=torch.float32, device=device) + id).sum(dtype=torch.float32).to(device)\n",
    "\n",
    "def reward(state, action, id):\n",
    "    # next_state = get_next_state(state, action)\n",
    "    next_state = state\n",
    "    # opponent_done = check_done(1 - id)\n",
    "    opponent_done = False\n",
    "    # self_died = check_done(id)\n",
    "    self_died = False\n",
    "    return (countArea(state, id) / 10000 + torch.tensor(5. if opponent_done else 0.) + torch.tensor(-5. if self_died else 0.)).to(device)"
   ]
  },
  {
   "cell_type": "code",
   "execution_count": 168,
   "metadata": {},
   "outputs": [
    {
     "data": {
      "text/plain": [
       "tensor(0.2650)"
      ]
     },
     "execution_count": 168,
     "metadata": {},
     "output_type": "execute_result"
    }
   ],
   "source": [
    "countArea(states[0], 0)\n",
    "reward(states[0], (), 2)"
   ]
  },
  {
   "cell_type": "code",
   "execution_count": 173,
   "metadata": {},
   "outputs": [
    {
     "data": {
      "text/plain": [
       "torch.Size([10, 102, 101])"
      ]
     },
     "execution_count": 173,
     "metadata": {},
     "output_type": "execute_result"
    }
   ],
   "source": [
    "torch.cat([s for s in states]).shape"
   ]
  },
  {
   "cell_type": "code",
   "execution_count": 186,
   "metadata": {},
   "outputs": [],
   "source": [
    "action_val_batch = policy_net(states)\n",
    "action_batch = action_val_batch.argmax(1).view(-1,1)\n",
    "# action_batch"
   ]
  },
  {
   "cell_type": "code",
   "execution_count": 205,
   "metadata": {},
   "outputs": [],
   "source": [
    "state_action_values = policy_net(states).gather(1, action_batch)"
   ]
  },
  {
   "cell_type": "code",
   "execution_count": 206,
   "metadata": {},
   "outputs": [
    {
     "data": {
      "text/plain": [
       "tensor([[ 0.2153,  0.0621,  0.1963],\n",
       "        [ 0.3528,  0.3629, -0.1931],\n",
       "        [ 0.4483,  0.4099, -0.0482],\n",
       "        [ 0.0795, -0.0169, -0.2965],\n",
       "        [ 0.1319,  0.0505,  0.0290],\n",
       "        [ 0.5002, -0.0779,  0.0654],\n",
       "        [-0.1783,  0.0192, -0.0485],\n",
       "        [-0.1900, -0.1327, -0.1267],\n",
       "        [ 0.1933,  0.0698,  0.1739],\n",
       "        [ 0.0375,  0.0214, -0.0948]])"
      ]
     },
     "execution_count": 206,
     "metadata": {},
     "output_type": "execute_result"
    }
   ],
   "source": [
    "next_states = torch.zeros([10, 1, 102, 101], dtype=torch.float32).random_(0, 4)\n",
    "# state = state.view((1, 32*32))\n",
    "policy_net(next_states)"
   ]
  },
  {
   "cell_type": "code",
   "execution_count": 207,
   "metadata": {},
   "outputs": [],
   "source": [
    "reward_batch=torch.zeros([10,1],dtype=torch.float32).random_(0,4)\n",
    "# reward_batch"
   ]
  },
  {
   "cell_type": "code",
   "execution_count": 217,
   "metadata": {},
   "outputs": [
    {
     "name": "stdout",
     "output_type": "stream",
     "text": [
      "torch.Size([10, 1])\n"
     ]
    }
   ],
   "source": [
    "next_state_vals = target_net(next_states).max(1)[0].detach().view(10,1)\n",
    "# next_state_expected_val\n",
    "expected_next_state_vals = reward_batch + next_state_vals*GAMMA # (10,1)\n",
    "# print(state_action_values.shape)\n",
    "print(expected_next_state_vals.shape)\n",
    "loss=F.smooth_l1_loss(state_action_values, expected_next_state_vals)"
   ]
  },
  {
   "cell_type": "code",
   "execution_count": 218,
   "metadata": {},
   "outputs": [],
   "source": [
    "optimizer.zero_grad()\n",
    "loss.backward()"
   ]
  },
  {
   "cell_type": "code",
   "execution_count": 219,
   "metadata": {},
   "outputs": [],
   "source": [
    "for param in policy_net.parameters():\n",
    "    param.grad.data.clamp(-1,1)\n",
    "optimizer.step()"
   ]
  },
  {
   "cell_type": "code",
   "execution_count": 222,
   "metadata": {},
   "outputs": [
    {
     "name": "stdout",
     "output_type": "stream",
     "text": [
      "torch.Size([16, 1, 5, 5])\n",
      "torch.Size([16])\n",
      "torch.Size([16])\n",
      "torch.Size([16])\n",
      "torch.Size([32, 16, 5, 5])\n",
      "torch.Size([32])\n",
      "torch.Size([32])\n",
      "torch.Size([32])\n",
      "torch.Size([32, 32, 5, 5])\n",
      "torch.Size([32])\n",
      "torch.Size([32])\n",
      "torch.Size([32])\n",
      "torch.Size([3, 3200])\n",
      "torch.Size([3])\n"
     ]
    }
   ],
   "source": [
    "for p in policy_net.parameters(): print(p.shape)"
   ]
  },
  {
   "cell_type": "code",
   "execution_count": null,
   "metadata": {},
   "outputs": [],
   "source": []
  }
 ],
 "metadata": {
  "kernelspec": {
   "display_name": "Python 3",
   "language": "python",
   "name": "python3"
  },
  "language_info": {
   "codemirror_mode": {
    "name": "ipython",
    "version": 3
   },
   "file_extension": ".py",
   "mimetype": "text/x-python",
   "name": "python",
   "nbconvert_exporter": "python",
   "pygments_lexer": "ipython3",
   "version": "3.6.2"
  }
 },
 "nbformat": 4,
 "nbformat_minor": 2
}
