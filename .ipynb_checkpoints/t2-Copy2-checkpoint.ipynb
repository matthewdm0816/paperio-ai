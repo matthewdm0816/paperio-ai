{
 "cells": [
  {
   "cell_type": "code",
   "execution_count": 4,
   "metadata": {},
   "outputs": [],
   "source": [
    "from collections import namedtuple\n",
    "Transition = namedtuple('Transition', ('state', 'action', 'next_state', 'reward'))"
   ]
  },
  {
   "cell_type": "code",
   "execution_count": 5,
   "metadata": {},
   "outputs": [
    {
     "data": {
      "text/plain": [
       "Transition(state=3, action=4, next_state=5, reward=6)"
      ]
     },
     "execution_count": 5,
     "metadata": {},
     "output_type": "execute_result"
    }
   ],
   "source": [
    "Transition(3,4,5,6)"
   ]
  },
  {
   "cell_type": "code",
   "execution_count": 6,
   "metadata": {},
   "outputs": [],
   "source": [
    "r = (3,4,5,6)"
   ]
  },
  {
   "cell_type": "code",
   "execution_count": 12,
   "metadata": {},
   "outputs": [],
   "source": [
    "rs = [r, r, r]"
   ]
  },
  {
   "cell_type": "code",
   "execution_count": 13,
   "metadata": {},
   "outputs": [
    {
     "data": {
      "text/plain": [
       "Transition(state=(3, 3, 3), action=(4, 4, 4), next_state=(5, 5, 5), reward=(6, 6, 6))"
      ]
     },
     "execution_count": 13,
     "metadata": {},
     "output_type": "execute_result"
    }
   ],
   "source": [
    "Transition(*zip(*rs))"
   ]
  },
  {
   "cell_type": "code",
   "execution_count": 16,
   "metadata": {},
   "outputs": [
    {
     "name": "stdout",
     "output_type": "stream",
     "text": [
      "really???\n"
     ]
    }
   ],
   "source": [
    "if 'global':\n",
    "    print(\"really???\")"
   ]
  },
  {
   "cell_type": "code",
   "execution_count": 21,
   "metadata": {},
   "outputs": [
    {
     "data": {
      "text/plain": [
       "['04.png',\n",
       " '1.html',\n",
       " '1.jpg',\n",
       " '1.txt',\n",
       " '2-2.cdx',\n",
       " '2-4.cdx',\n",
       " '2-4.png',\n",
       " 'Applications',\n",
       " 'Calibre 书库',\n",
       " 'Craft-2.cdx',\n",
       " 'Desktop',\n",
       " 'Documents',\n",
       " 'Downloads',\n",
       " 'FTL',\n",
       " 'Google 云端硬盘',\n",
       " 'Library',\n",
       " 'Movies',\n",
       " 'Music',\n",
       " 'Pictures',\n",
       " 'Public',\n",
       " 'PycharmProjects',\n",
       " 'Thumbs.db',\n",
       " 'Untitled.ipynb',\n",
       " 'Untitled2.ipynb',\n",
       " 'XcodeProjects',\n",
       " '[0]',\n",
       " 'barton-4.cdx',\n",
       " 'get-pip.py',\n",
       " 'gitt',\n",
       " 'index.html',\n",
       " 'index.html.1',\n",
       " 'mu_code',\n",
       " 'o',\n",
       " 'p1.png',\n",
       " 'p2.png',\n",
       " 'p3.png',\n",
       " 'project',\n",
       " 't2.ipynb',\n",
       " 'target',\n",
       " 'tensorflow',\n",
       " 'untitled.cdx',\n",
       " 'untitled.cdxml',\n",
       " '维内托.mssf']"
      ]
     },
     "execution_count": 21,
     "metadata": {},
     "output_type": "execute_result"
    }
   ],
   "source": [
    "%system ls"
   ]
  },
  {
   "cell_type": "code",
   "execution_count": null,
   "metadata": {},
   "outputs": [],
   "source": []
  }
 ],
 "metadata": {
  "kernelspec": {
   "display_name": "Python 3",
   "language": "python",
   "name": "python3"
  },
  "language_info": {
   "codemirror_mode": {
    "name": "ipython",
    "version": 3
   },
   "file_extension": ".py",
   "mimetype": "text/x-python",
   "name": "python",
   "nbconvert_exporter": "python",
   "pygments_lexer": "ipython3",
   "version": "3.6.2"
  }
 },
 "nbformat": 4,
 "nbformat_minor": 2
}
