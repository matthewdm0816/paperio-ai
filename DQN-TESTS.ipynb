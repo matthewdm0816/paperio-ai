{
 "cells": [
  {
   "cell_type": "code",
   "execution_count": 1,
   "metadata": {},
   "outputs": [],
   "source": [
    "import torch, torchvision\n",
    "import torch.nn.functional as F\n",
    "import random, math\n",
    "import numpy as np\n",
    "import torch.nn as nn\n",
    "import torchvision.transforms as T\n",
    "import torch.optim as optim\n",
    "from itertools import count\n",
    "from collections import namedtuple"
   ]
  },
  {
   "cell_type": "code",
   "execution_count": 2,
   "metadata": {},
   "outputs": [],
   "source": [
    "device = torch.device(\"cuda\" if torch.cuda.is_available() else \"cpu\")\n",
    "Transition = namedtuple('Transition', ('state', 'action', 'next_state', 'reward'))"
   ]
  },
  {
   "cell_type": "code",
   "execution_count": 55,
   "metadata": {},
   "outputs": [],
   "source": [
    "class DQN(nn.Module):\n",
    "\tdef __init__(self):\n",
    "\t\tsuper(DQN, self).__init__()\n",
    "\t\tself.conv1 = nn.Conv2d(1, 32, kernel_size=5, stride=2)\n",
    "\t\tself.bn1 = nn.BatchNorm2d(32)\n",
    "\t\tself.conv2 = nn.Conv2d(32, 64, kernel_size=5, stride=2)\n",
    "\t\tself.bn2 = nn.BatchNorm2d(64)\n",
    "\t\tself.conv3 = nn.Conv2d(64, 32, kernel_size=5, stride=2)\n",
    "\t\tself.bn3 = nn.BatchNorm2d(32)\n",
    "\t\tself.head = nn.Linear(3200, 3) # ???\n",
    "\t\t# out : Left, Straight, Right\n",
    "\n",
    "\tdef forward(self, x):\n",
    "\t\tx = F.relu(self.bn1(self.conv1(x)))\n",
    "\t\tx = F.relu(self.bn2(self.conv2(x)))\n",
    "\t\tx = F.relu(self.bn3(self.conv3(x)))\n",
    "\t\t# return x\n",
    "\t\tx = x.view(x.size(0), -1)\n",
    "\t\tprint(x.shape)\n",
    "\t\treturn self.head(x)\n",
    "    \n",
    "\n",
    "BATCH_SIZE = 128\n",
    "GAMMA = 0.999\n",
    "EPS_START = 0.9\n",
    "EPS_DECAY = 200\n",
    "EPS_END = 0.05\n",
    "TARGET_UPDATE = 10\n",
    "\n",
    "policy_net = DQN().to(device)\n",
    "target_net = DQN().to(device)\n",
    "target_net.load_state_dict(policy_net.state_dict())\n",
    "target_net.eval()\n",
    "\n",
    "optimizer = optim.RMSprop(policy_net.parameters())"
   ]
  },
  {
   "cell_type": "code",
   "execution_count": 56,
   "metadata": {},
   "outputs": [
    {
     "name": "stdout",
     "output_type": "stream",
     "text": [
      "torch.Size([10, 3200])\n"
     ]
    },
    {
     "data": {
      "text/plain": [
       "tensor([[ 0.0520, -0.4447,  0.1911],\n",
       "        [ 0.2817, -0.1657,  0.0655],\n",
       "        [-0.3039, -0.3061,  0.0703],\n",
       "        [ 0.0751, -0.0557, -0.3605],\n",
       "        [-0.0781, -0.0136,  0.4026],\n",
       "        [-0.0499, -0.2134,  0.3827],\n",
       "        [-0.2112, -0.0813, -0.0105],\n",
       "        [ 0.1924, -0.4436,  0.0512],\n",
       "        [-0.2738, -0.2689, -0.1009],\n",
       "        [ 0.0495, -0.3047,  0.3029]])"
      ]
     },
     "execution_count": 56,
     "metadata": {},
     "output_type": "execute_result"
    }
   ],
   "source": [
    "states = torch.zeros([10, 1, 102, 101], dtype=torch.float32).random_(0, 4)\n",
    "# state = state.view((1, 32*32))\n",
    "policy_net(states)\n"
   ]
  },
  {
   "cell_type": "code",
   "execution_count": 5,
   "metadata": {},
   "outputs": [],
   "source": [
    "steps_done = 0\n",
    "def select_action(state):\n",
    "\tglobal steps_done\n",
    "\tsample = random.random()\n",
    "\teps_threshold = EPS_END + (EPS_START - EPS_END) * \\\n",
    "\t\tmath.exp(-1. * steps_done / EPS_DECAY)\n",
    "\tsteps_done += 1\n",
    "\tif sample > eps_threshold:\n",
    "\t\twith torch.no_grad():\n",
    "\t\t\treturn policy_net(state).max(1)[1].view(1, 1)\n",
    "\telse:\n",
    "\t\treturn torch.tensor([[random.randrange(3)]], device=device)\n",
    "\n",
    "def plain_select_action(states):\n",
    "    with torch.no_grad():\n",
    "        return policy_net(states.view(-1, 1, 102, 101)).argmax(dim=1)\n",
    "\n",
    "plain_select_action(states)\n",
    "\n",
    "def countArea(state, id):\n",
    "    return state.eq(torch.zeros(state.shape, dtype=torch.float32, device=device) + id).sum(dtype=torch.float32).to(device)\n",
    "\n",
    "def reward(state, action, id):\n",
    "    # next_state = get_next_state(state, action)\n",
    "    next_state = state\n",
    "    # opponent_done = check_done(1 - id)\n",
    "    opponent_done = False\n",
    "    # self_died = check_done(id)\n",
    "    self_died = False\n",
    "    return (countArea(state, id) / 10000 + torch.tensor(5. if opponent_done else 0.) + torch.tensor(-5. if self_died else 0.)).to(device)"
   ]
  },
  {
   "cell_type": "code",
   "execution_count": 6,
   "metadata": {},
   "outputs": [
    {
     "data": {
      "text/plain": [
       "tensor(0.2506)"
      ]
     },
     "execution_count": 6,
     "metadata": {},
     "output_type": "execute_result"
    }
   ],
   "source": [
    "countArea(states[0], 0)\n",
    "reward(states[0], (), 2)"
   ]
  },
  {
   "cell_type": "code",
   "execution_count": 7,
   "metadata": {},
   "outputs": [
    {
     "data": {
      "text/plain": [
       "torch.Size([10, 102, 101])"
      ]
     },
     "execution_count": 7,
     "metadata": {},
     "output_type": "execute_result"
    }
   ],
   "source": [
    "torch.cat([s for s in states]).shape"
   ]
  },
  {
   "cell_type": "code",
   "execution_count": 8,
   "metadata": {},
   "outputs": [],
   "source": [
    "action_val_batch = policy_net(states)\n",
    "action_batch = action_val_batch.argmax(1).view(-1,1)\n",
    "# action_batch"
   ]
  },
  {
   "cell_type": "code",
   "execution_count": 9,
   "metadata": {},
   "outputs": [],
   "source": [
    "state_action_values = policy_net(states).gather(1, action_batch)"
   ]
  },
  {
   "cell_type": "code",
   "execution_count": 10,
   "metadata": {},
   "outputs": [
    {
     "data": {
      "text/plain": [
       "tensor([[-0.0556,  0.1022,  0.2268],\n",
       "        [-0.4877, -0.0440,  0.1352],\n",
       "        [-0.7305, -0.1994,  0.0613],\n",
       "        [-0.3419,  0.1413, -0.1669],\n",
       "        [-0.1917,  0.3157, -0.1461],\n",
       "        [-0.5572, -0.0786,  0.1484],\n",
       "        [-0.1007,  0.1157, -0.0268],\n",
       "        [-0.2318,  0.0986, -0.1993],\n",
       "        [-0.7225,  0.5529,  0.0708],\n",
       "        [-0.3112,  0.0133, -0.0953]])"
      ]
     },
     "execution_count": 10,
     "metadata": {},
     "output_type": "execute_result"
    }
   ],
   "source": [
    "next_states = torch.zeros([10, 1, 102, 101], dtype=torch.float32).random_(0, 4)\n",
    "# state = state.view((1, 32*32))\n",
    "policy_net(next_states)"
   ]
  },
  {
   "cell_type": "code",
   "execution_count": 11,
   "metadata": {},
   "outputs": [],
   "source": [
    "reward_batch=torch.zeros([10,1],dtype=torch.float32).random_(0,4)\n",
    "# reward_batch"
   ]
  },
  {
   "cell_type": "code",
   "execution_count": 12,
   "metadata": {},
   "outputs": [
    {
     "name": "stdout",
     "output_type": "stream",
     "text": [
      "torch.Size([10, 1])\n"
     ]
    }
   ],
   "source": [
    "next_state_vals = target_net(next_states).max(1)[0].detach().view(10,1)\n",
    "# next_state_expected_val\n",
    "expected_next_state_vals = reward_batch + next_state_vals*GAMMA # (10,1)\n",
    "# print(state_action_values.shape)\n",
    "print(expected_next_state_vals.shape)\n",
    "loss=F.smooth_l1_loss(state_action_values, expected_next_state_vals)"
   ]
  },
  {
   "cell_type": "code",
   "execution_count": 13,
   "metadata": {},
   "outputs": [],
   "source": [
    "optimizer.zero_grad()\n",
    "loss.backward()"
   ]
  },
  {
   "cell_type": "code",
   "execution_count": 21,
   "metadata": {},
   "outputs": [
    {
     "ename": "AttributeError",
     "evalue": "'NoneType' object has no attribute 'data'",
     "traceback": [
      "\u001b[0;31m---------------------------------------------------------------------------\u001b[0m",
      "\u001b[0;31mAttributeError\u001b[0m                            Traceback (most recent call last)",
      "\u001b[0;32m<ipython-input-21-2924a7ad382c>\u001b[0m in \u001b[0;36m<module>\u001b[0;34m()\u001b[0m\n\u001b[1;32m      1\u001b[0m \u001b[0;32mfor\u001b[0m \u001b[0mparam\u001b[0m \u001b[0;32min\u001b[0m \u001b[0mpolicy_net\u001b[0m\u001b[0;34m.\u001b[0m\u001b[0mparameters\u001b[0m\u001b[0;34m(\u001b[0m\u001b[0;34m)\u001b[0m\u001b[0;34m:\u001b[0m\u001b[0;34m\u001b[0m\u001b[0m\n\u001b[0;32m----> 2\u001b[0;31m     \u001b[0mparam\u001b[0m\u001b[0;34m.\u001b[0m\u001b[0mgrad\u001b[0m\u001b[0;34m.\u001b[0m\u001b[0mdata\u001b[0m\u001b[0;34m.\u001b[0m\u001b[0mclamp\u001b[0m\u001b[0;34m(\u001b[0m\u001b[0;34m-\u001b[0m\u001b[0;36m1\u001b[0m\u001b[0;34m,\u001b[0m\u001b[0;36m1\u001b[0m\u001b[0;34m)\u001b[0m\u001b[0;34m\u001b[0m\u001b[0m\n\u001b[0m\u001b[1;32m      3\u001b[0m \u001b[0moptimizer\u001b[0m\u001b[0;34m.\u001b[0m\u001b[0mstep\u001b[0m\u001b[0;34m(\u001b[0m\u001b[0;34m)\u001b[0m\u001b[0;34m\u001b[0m\u001b[0m\n",
      "\u001b[0;31mAttributeError\u001b[0m: 'NoneType' object has no attribute 'data'"
     ],
     "output_type": "error"
    }
   ],
   "source": [
    "for param in policy_net.parameters():\n",
    "    param.grad.data.clamp(-1,1)\n",
    "optimizer.step()"
   ]
  },
  {
   "cell_type": "code",
   "execution_count": 23,
   "metadata": {},
   "outputs": [
    {
     "data": {
      "text/plain": [
       "tensor(3)"
      ]
     },
     "execution_count": 23,
     "metadata": {},
     "output_type": "execute_result"
    }
   ],
   "source": [
    "d=torch.tensor(-3).abs()\n",
    "d"
   ]
  },
  {
   "cell_type": "code",
   "execution_count": 29,
   "metadata": {},
   "outputs": [
    {
     "data": {
      "text/plain": [
       "tensor([[[ 0.,  2.,  1.,  2.,  0.,  1.],\n",
       "         [ 3.,  2.,  2.,  0.,  2.,  2.],\n",
       "         [ 0.,  0.,  3.,  1.,  2.,  1.],\n",
       "         [ 0.,  3.,  0.,  2.,  2.,  1.],\n",
       "         [ 1.,  3.,  0.,  2.,  0.,  3.]],\n",
       "\n",
       "        [[ 3.,  1.,  2.,  2.,  0.,  2.],\n",
       "         [ 1.,  2.,  0.,  1.,  2.,  3.],\n",
       "         [ 2.,  2.,  0.,  1.,  3.,  0.],\n",
       "         [ 1.,  3.,  2.,  1.,  3.,  1.],\n",
       "         [ 1.,  2.,  3.,  2.,  2.,  3.]],\n",
       "\n",
       "        [[ 2.,  0.,  0.,  1.,  3.,  2.],\n",
       "         [ 3.,  2.,  0.,  2.,  0.,  0.],\n",
       "         [ 3.,  2.,  1.,  1.,  0.,  1.],\n",
       "         [ 2.,  0.,  3.,  3.,  2.,  0.],\n",
       "         [ 1.,  2.,  1.,  2.,  1.,  2.]],\n",
       "\n",
       "        [[ 2.,  3.,  3.,  1.,  3.,  2.],\n",
       "         [ 0.,  0.,  3.,  2.,  0.,  0.],\n",
       "         [ 1.,  2.,  2.,  2.,  3.,  2.],\n",
       "         [ 2.,  2.,  0.,  0.,  3.,  2.],\n",
       "         [ 1.,  2.,  1.,  0.,  0.,  0.]]])"
      ]
     },
     "execution_count": 29,
     "metadata": {},
     "output_type": "execute_result"
    }
   ],
   "source": [
    "d=torch.zeros([4,5,6],dtype=torch.float32).random_(0,4)\n",
    "d"
   ]
  },
  {
   "cell_type": "code",
   "execution_count": 30,
   "metadata": {},
   "outputs": [
    {
     "data": {
      "text/plain": [
       "tensor([[[ 0,  1,  0,  1,  0,  0],\n",
       "         [ 0,  1,  1,  0,  1,  1],\n",
       "         [ 0,  0,  0,  0,  1,  0],\n",
       "         [ 0,  0,  0,  1,  1,  0],\n",
       "         [ 0,  0,  0,  1,  0,  0]],\n",
       "\n",
       "        [[ 0,  0,  1,  1,  0,  1],\n",
       "         [ 0,  1,  0,  0,  1,  0],\n",
       "         [ 1,  1,  0,  0,  0,  0],\n",
       "         [ 0,  0,  1,  0,  0,  0],\n",
       "         [ 0,  1,  0,  1,  1,  0]],\n",
       "\n",
       "        [[ 1,  0,  0,  0,  0,  1],\n",
       "         [ 0,  1,  0,  1,  0,  0],\n",
       "         [ 0,  1,  0,  0,  0,  0],\n",
       "         [ 1,  0,  0,  0,  1,  0],\n",
       "         [ 0,  1,  0,  1,  0,  1]],\n",
       "\n",
       "        [[ 1,  0,  0,  0,  0,  1],\n",
       "         [ 0,  0,  0,  1,  0,  0],\n",
       "         [ 0,  1,  1,  1,  0,  1],\n",
       "         [ 1,  1,  0,  0,  0,  1],\n",
       "         [ 0,  1,  0,  0,  0,  0]]], dtype=torch.uint8)"
      ]
     },
     "execution_count": 30,
     "metadata": {},
     "output_type": "execute_result"
    }
   ],
   "source": [
    "d.eq(2)"
   ]
  },
  {
   "cell_type": "code",
   "execution_count": 31,
   "metadata": {},
   "outputs": [],
   "source": [
    "a = torch.tensor([[3]])"
   ]
  },
  {
   "cell_type": "code",
   "execution_count": 39,
   "metadata": {},
   "outputs": [
    {
     "data": {
      "text/plain": [
       "3"
      ]
     },
     "execution_count": 39,
     "metadata": {},
     "output_type": "execute_result"
    }
   ],
   "source": [
    "int(a[0][0].data)"
   ]
  },
  {
   "cell_type": "code",
   "execution_count": 40,
   "metadata": {},
   "outputs": [
    {
     "data": {
      "text/plain": [
       "3"
      ]
     },
     "execution_count": 40,
     "metadata": {},
     "output_type": "execute_result"
    }
   ],
   "source": [
    "int(a)"
   ]
  },
  {
   "cell_type": "code",
   "execution_count": 47,
   "metadata": {},
   "outputs": [
    {
     "data": {
      "text/plain": [
       "torch.Size([3, 1, 1])"
      ]
     },
     "execution_count": 47,
     "metadata": {},
     "output_type": "execute_result"
    }
   ],
   "source": [
    "torch.cat([torch.tensor([[3]]) for _ in range(3)]).unsqueeze(1).shape"
   ]
  },
  {
   "cell_type": "code",
   "execution_count": 50,
   "metadata": {},
   "outputs": [
    {
     "data": {
      "text/plain": [
       "tensor([[[ 0]],\n",
       "\n",
       "        [[ 0]],\n",
       "\n",
       "        [[ 2]],\n",
       "\n",
       "        [[ 1]],\n",
       "\n",
       "        [[ 0]],\n",
       "\n",
       "        [[ 1]],\n",
       "\n",
       "        [[ 0]],\n",
       "\n",
       "        [[ 2]],\n",
       "\n",
       "        [[ 0]],\n",
       "\n",
       "        [[ 2]]])"
      ]
     },
     "execution_count": 50,
     "metadata": {},
     "output_type": "execute_result"
    }
   ],
   "source": [
    "policy_net(states).argmax(1).view(-1, 1, 1)"
   ]
  },
  {
   "cell_type": "code",
   "execution_count": 51,
   "metadata": {},
   "outputs": [
    {
     "data": {
      "text/plain": [
       "tensor(178.)"
      ]
     },
     "execution_count": 51,
     "metadata": {},
     "output_type": "execute_result"
    }
   ],
   "source": [
    "d.sum()"
   ]
  },
  {
   "cell_type": "code",
   "execution_count": null,
   "metadata": {},
   "outputs": [],
   "source": []
  }
 ],
 "metadata": {
  "kernelspec": {
   "display_name": "Python 3",
   "language": "python",
   "name": "python3"
  },
  "language_info": {
   "codemirror_mode": {
    "name": "ipython",
    "version": 3
   },
   "file_extension": ".py",
   "mimetype": "text/x-python",
   "name": "python",
   "nbconvert_exporter": "python",
   "pygments_lexer": "ipython3",
   "version": "3.6.2"
  }
 },
 "nbformat": 4,
 "nbformat_minor": 2
}
